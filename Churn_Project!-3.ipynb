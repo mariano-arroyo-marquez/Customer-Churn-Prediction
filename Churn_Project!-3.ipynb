{
  "cells": [
    {
      "cell_type": "markdown",
      "metadata": {
        "id": "quOTbk2YGGsh"
      },
      "source": [
        "## Introduction + Library"
      ]
    },
    {
      "cell_type": "markdown",
      "metadata": {
        "id": "q9IGB8x9uxEW"
      },
      "source": [
        "We started our project by determing the objectives. We understand that Churn means losing customers and therefore high churns hurts profits while low churn boosts them significantly. This is why, with the data provided, we forecasted which customers might leave and the reason why this is. Our main objectives were to create a model to forecast churn.\n",
        "\n",
        "For this project, the code is written and analyzed in python through the Google Colab editor.\n",
        "\n",
        "There are four different sections in the library: tools for data analysis, preparing the data, making data ready for analytics, and building our analysis tools.\n",
        "\n",
        "The first section is the tool section. This can be seen below."
      ]
    },
    {
      "cell_type": "code",
      "execution_count": null,
      "metadata": {
        "id": "NUI2i6mNIo7E"
      },
      "outputs": [],
      "source": [
        "import numpy as np\n",
        "## Numpy is used for dealing with numerical operations.\n",
        "import pandas as pd\n",
        "## Pandas is used for data manipulation and analysis\n",
        "import matplotlib.pyplot as plt\n",
        "## Matplotlib is used for creating charts and graphs to be able to see data trends."
      ]
    },
    {
      "cell_type": "markdown",
      "metadata": {
        "id": "GmQLBct9vVkm"
      },
      "source": [
        "The next section was for preparing the data."
      ]
    },
    {
      "cell_type": "code",
      "execution_count": null,
      "metadata": {
        "id": "aEcEVvmmuvFc"
      },
      "outputs": [],
      "source": [
        "from sklearn.impute import SimpleImputer\n",
        "## Sklearn.impute fills in missing blanks in the data sheet.\n",
        "from scipy import stats\n",
        "## Scipy.stat was used to help idenity and clean unusual data points."
      ]
    },
    {
      "cell_type": "markdown",
      "metadata": {
        "id": "GL95h5rgwU0M"
      },
      "source": [
        "The next section contains the tools we used to make the data ready for analysis."
      ]
    },
    {
      "cell_type": "code",
      "execution_count": null,
      "metadata": {
        "id": "3LpOsxxWwTyw"
      },
      "outputs": [],
      "source": [
        "from sklearn import preprocessing\n",
        "## Sklearn.preprocessing was used to adjust the data to a common scale.\n",
        "from sklearn.model_selection import train_test_split\n",
        "## The train test split was used to divide the data so that we could test our analysis tools.\n",
        "from sklearn import metrics\n",
        "## We used metrics to provide us with the tools to measure the accuracy of the predicted models."
      ]
    },
    {
      "cell_type": "markdown",
      "metadata": {
        "id": "-VelDAnxx5sW"
      },
      "source": [
        "The last section of the library was our analysis tools."
      ]
    },
    {
      "cell_type": "code",
      "execution_count": null,
      "metadata": {
        "id": "Pz5xnY2Wx-D1"
      },
      "outputs": [],
      "source": [
        "from sklearn import linear_model\n",
        "## We used the sklearn to help us with the linear model.\n",
        "from sklearn.ensemble import RandomForestClassifier\n",
        "## We used the sklearn.ensemble to run the Random Forest Model."
      ]
    },
    {
      "cell_type": "markdown",
      "metadata": {
        "id": "LnHRxDar8JyZ"
      },
      "source": [
        "After loading in the libraries, we needed to import our data. In order to do that, we needed to mount our Google Drive because that is where the data was. The link to the data is [here](https://drive.google.com/file/d/1gyLBGml1NNhdYmKFYDeIy_INT3e_52Vc/view?usp=sharing). This needs to be imported into your google drive for the Colab to work."
      ]
    },
    {
      "cell_type": "code",
      "execution_count": null,
      "metadata": {
        "id": "2YewEoPvT8xS",
        "colab": {
          "base_uri": "https://localhost:8080/"
        },
        "outputId": "02012ae7-c8d8-4d36-af44-107bef70fee0"
      },
      "outputs": [
        {
          "output_type": "stream",
          "name": "stdout",
          "text": [
            "Mounted at /content/gdrive\n"
          ]
        }
      ],
      "source": [
        "from google.colab import drive\n",
        "drive.mount('/content/gdrive')"
      ]
    },
    {
      "cell_type": "code",
      "execution_count": null,
      "metadata": {
        "id": "YW7WWBY4USVn",
        "colab": {
          "base_uri": "https://localhost:8080/"
        },
        "outputId": "f07317e5-21b8-4c49-a541-9227903a5f0c"
      },
      "outputs": [
        {
          "output_type": "stream",
          "name": "stdout",
          "text": [
            "/content/gdrive/My Drive\n"
          ]
        }
      ],
      "source": [
        "%cd /content/gdrive/My\\ Drive"
      ]
    },
    {
      "cell_type": "markdown",
      "metadata": {
        "id": "nTFKX_y39d27"
      },
      "source": [
        "To start we wanted to see the whole data set in Colab so it is shown below."
      ]
    },
    {
      "cell_type": "code",
      "execution_count": null,
      "metadata": {
        "id": "dJ7EIsgqUXCg"
      },
      "outputs": [],
      "source": [
        "data = pd .read_csv('Aquinas Customer Churn Data 2024 V2.csv')"
      ]
    },
    {
      "cell_type": "markdown",
      "metadata": {
        "id": "Yms1ro_zwRvB"
      },
      "source": [
        "# Data Cleaning\n",
        "\n",
        "The first part of cleaning the data was getting rid of all of the spots filled wth '-'. The '-' were place holders for unknowns and for the code to work, all of the cells needed to be empty. This was changed in the Excel sheet.\n",
        "\n",
        "It was also found that the code would not work if therewere '$' or ',' in the entry.\n",
        "In the Excel file all of the columns with those entries were changed into Numbers as they were all considered \"Accounting.\" While changing them to numbers, the commas were also removed. Once this was fixed, the file was uploaded to Colab."
      ]
    },
    {
      "cell_type": "markdown",
      "metadata": {
        "id": "6Erkd8z5sJiQ"
      },
      "source": [
        "## Data Types\n",
        "\n",
        "It was then found that all of the data types needed to be changed fromobjects to float. The data types can be seen below."
      ]
    },
    {
      "cell_type": "code",
      "execution_count": null,
      "metadata": {
        "id": "0ti5CFFMHObZ",
        "colab": {
          "base_uri": "https://localhost:8080/"
        },
        "outputId": "e653abbc-5c6d-4203-97d6-e6ad53c4948a"
      },
      "outputs": [
        {
          "output_type": "execute_result",
          "data": {
            "text/plain": [
              "Customer Key                    int64\n",
              "MaintenanceAgreementCount       int64\n",
              "ContractRevenue                object\n",
              "MainEquipmentCount             object\n",
              "PartsCost                      object\n",
              "BacklineCost                   object\n",
              "TotalLaborTime                 object\n",
              "TotalTravelTime                object\n",
              "TotalLaborCost                 object\n",
              "TotalTravelCost                object\n",
              "TotalServiceCalls              object\n",
              "TotalServiceCallEscalations     int64\n",
              "Tenure                          int64\n",
              "Churned                         int64\n",
              "dtype: object"
            ]
          },
          "metadata": {},
          "execution_count": 8
        }
      ],
      "source": [
        "data.dtypes"
      ]
    },
    {
      "cell_type": "markdown",
      "metadata": {
        "id": "5P70-MJGspja"
      },
      "source": [
        "To start this process all of the different symbols or numbers with blank spaces needed to be changed.This process was done for every column."
      ]
    },
    {
      "cell_type": "code",
      "execution_count": null,
      "metadata": {
        "id": "tfRy2gYCHaAB"
      },
      "outputs": [],
      "source": [
        "data['ContractRevenue'] = data['ContractRevenue'].str.replace('$','')\n",
        "data['ContractRevenue'] = data['ContractRevenue'].str.replace(',','')\n",
        "data['ContractRevenue'] = data['ContractRevenue'].replace(r'^\\s*$', np.nan, regex=True)\n",
        "data['ContractRevenue'] = pd.to_numeric(data['ContractRevenue'])\n",
        "data['MainEquipmentCount'] = data['MainEquipmentCount'].str.replace(',','')\n",
        "data['MainEquipmentCount'] = data['MainEquipmentCount'].replace(r'^\\s*$', np.nan, regex=True)\n",
        "data['MainEquipmentCount'] = pd.to_numeric(data['MainEquipmentCount'])\n",
        "data['PartsCost'] = data['PartsCost'].str.replace(',','')\n",
        "data['PartsCost'] = data['PartsCost'].replace(r'^\\s*$', np.nan, regex = True)\n",
        "data['PartsCost'] = pd.to_numeric(data['PartsCost'])\n",
        "data['BacklineCost']=data['BacklineCost'].str.replace(',','')\n",
        "data['BacklineCost'] = data['BacklineCost'].str.replace('[$,,,]','')\n",
        "data['BacklineCost'] = data['BacklineCost'].replace(r'\\s*$', np.nan, regex=True)\n",
        "data['BacklineCost']=pd.to_numeric(data['BacklineCost'])\n",
        "data['TotalLaborTime']=data['TotalLaborTime'].str.replace(',','')\n",
        "data['TotalLaborTime']=pd.to_numeric(data['TotalLaborTime'])\n",
        "data['TotalTravelTime']=data['TotalTravelTime'].str.replace(',','')\n",
        "data['TotalTravelTime']=pd.to_numeric(data['TotalTravelTime'])\n",
        "data['TotalLaborCost'] = data['TotalLaborCost'].astype(str)\n",
        "data['TotalLaborCost'] = data['TotalLaborCost'].str.replace('[$,,,)]','')\n",
        "data['TotalLaborCost'] = data['TotalLaborCost'].replace(r'^\\s*$-', np.nan, regex = True)\n",
        "data['TotalLaborCost'] = pd.to_numeric(data['TotalLaborCost'], errors='coerce')\n",
        "data['TotalTravelCost'] = data['TotalTravelCost'].astype(str)\n",
        "data['TotalTravelCost'] = data['TotalTravelCost'].str.replace('[$,()]', '', regex=True)\n",
        "data['TotalTravelCost'] = data['TotalTravelCost'].str.replace('[$,,,)]','')\n",
        "data['TotalTravelCost'] = pd.to_numeric(data['TotalTravelCost'], errors='coerce')\n",
        "data['TotalServiceCalls'] = data['TotalServiceCalls'].astype(str)\n",
        "data['TotalServiceCalls'] = data['TotalServiceCalls'].str.replace('[$,()]', '', regex=True)\n",
        "data['TotalServiceCalls'] = pd.to_numeric(data['TotalServiceCalls'], errors='coerce')"
      ]
    },
    {
      "cell_type": "markdown",
      "metadata": {
        "id": "V28EovfkwwaC"
      },
      "source": [
        "The chart below confirms all of the datatypes were turned into floats and therefore we can start cleaning the data."
      ]
    },
    {
      "cell_type": "code",
      "execution_count": null,
      "metadata": {
        "id": "SWF1UCKyHJsz",
        "colab": {
          "base_uri": "https://localhost:8080/"
        },
        "outputId": "b7469748-1ac4-4cda-8cad-5ba4d88fdd42"
      },
      "outputs": [
        {
          "output_type": "execute_result",
          "data": {
            "text/plain": [
              "Customer Key                     int64\n",
              "MaintenanceAgreementCount        int64\n",
              "ContractRevenue                float64\n",
              "MainEquipmentCount             float64\n",
              "PartsCost                      float64\n",
              "BacklineCost                   float64\n",
              "TotalLaborTime                 float64\n",
              "TotalTravelTime                float64\n",
              "TotalLaborCost                 float64\n",
              "TotalTravelCost                float64\n",
              "TotalServiceCalls              float64\n",
              "TotalServiceCallEscalations      int64\n",
              "Tenure                           int64\n",
              "Churned                          int64\n",
              "dtype: object"
            ]
          },
          "metadata": {},
          "execution_count": 10
        }
      ],
      "source": [
        "data.dtypes"
      ]
    },
    {
      "cell_type": "markdown",
      "metadata": {
        "id": "gJm7-GYdFvW2"
      },
      "source": [
        "##  NANs\n",
        "\n",
        "After changing the data types the next part of cleaning was  handling NANs. Below is the breakdown, by column, of how many NANs there are. The total number is 8,763."
      ]
    },
    {
      "cell_type": "code",
      "execution_count": null,
      "metadata": {
        "id": "xO2GdxXTU5OH",
        "colab": {
          "base_uri": "https://localhost:8080/"
        },
        "outputId": "a2d927db-5e35-44c3-9f6f-5eb333f32823"
      },
      "outputs": [
        {
          "output_type": "execute_result",
          "data": {
            "text/plain": [
              "Customer Key                       0\n",
              "MaintenanceAgreementCount          0\n",
              "ContractRevenue                 2515\n",
              "MainEquipmentCount              2519\n",
              "PartsCost                       7626\n",
              "BacklineCost                   12364\n",
              "TotalLaborTime                     0\n",
              "TotalTravelTime                    0\n",
              "TotalLaborCost                  6638\n",
              "TotalTravelCost                 5657\n",
              "TotalServiceCalls               3891\n",
              "TotalServiceCallEscalations        0\n",
              "Tenure                             0\n",
              "Churned                            0\n",
              "dtype: int64"
            ]
          },
          "metadata": {},
          "execution_count": 11
        }
      ],
      "source": [
        "data.isnull().sum()"
      ]
    },
    {
      "cell_type": "markdown",
      "metadata": {
        "id": "7aVKSYsJvDD_"
      },
      "source": [
        "To clean up the NANs they were imputed with the median. This was decided because when imputing with the mean for ContractRevenue, we were given a number that wasn't very close to other values in the column and would eventually throw off the accuracy of our model. This makes sense because the median is less sensitive to outliers than the mean is. The median strategy gave us the numbers for all columns that were roughly close enough to the other values and then we were able to have a pretty high accuracy in our models."
      ]
    },
    {
      "cell_type": "code",
      "execution_count": null,
      "metadata": {
        "id": "E7inROFM33Z9"
      },
      "outputs": [],
      "source": [
        "imputer = SimpleImputer(missing_values=np.nan, strategy='median')\n",
        "imputer = imputer.fit(data[['MainEquipmentCount']])\n",
        "data['MainEquipmentCount'] = imputer.transform(data[['MainEquipmentCount']])\n",
        "\n",
        "imputer = SimpleImputer(missing_values=np.nan, strategy='median')\n",
        "imputer = imputer.fit(data[['PartsCost']])\n",
        "data['PartsCost'] = imputer.transform(data[['PartsCost']])\n",
        "\n",
        "imputer = SimpleImputer(missing_values=np.NaN, strategy='median')\n",
        "imputer = imputer.fit(data[['ContractRevenue']])\n",
        "data['ContractRevenue'] = imputer.transform(data[['ContractRevenue']])\n",
        "\n",
        "imputer = SimpleImputer(missing_values=np.nan, strategy='median')\n",
        "imputer = imputer.fit(data[['TotalLaborCost']])\n",
        "data['TotalLaborCost'] = imputer.transform(data[['TotalLaborCost']])\n",
        "\n",
        "imputer = SimpleImputer(missing_values=np.nan, strategy='median')\n",
        "imputer = imputer.fit(data[['TotalTravelCost']])\n",
        "data['TotalTravelCost'] = imputer.transform(data[['TotalTravelCost']])\n",
        "\n",
        "imputer = SimpleImputer(missing_values=np.nan, strategy='median')\n",
        "imputer = imputer.fit(data[['TotalServiceCalls']])\n",
        "data['TotalServiceCalls'] = imputer.transform(data[['TotalServiceCalls']])"
      ]
    },
    {
      "cell_type": "markdown",
      "metadata": {
        "id": "Y-Fw5d1pv9jH"
      },
      "source": [
        "When we were writing the imputing codes, we came across something weird with BacklineCosts. If we tried to impute using the median, none of the NANs would disappear. That's when we found out we had to go from median-mean-median then the NANs would be resolved."
      ]
    },
    {
      "cell_type": "code",
      "execution_count": null,
      "metadata": {
        "id": "Rcia3V1Dv85A"
      },
      "outputs": [],
      "source": [
        "imputer = SimpleImputer(missing_values=np.nan, strategy='median')\n",
        "imputer = imputer.fit(data[['BacklineCost']])\n",
        "data['BacklineCost'] = imputer.transform(data[['BacklineCost']])\n",
        "\n",
        "imputer = SimpleImputer(missing_values=np.nan, strategy='mean')\n",
        "imputer = imputer.fit(data[['BacklineCost']])\n",
        "data['BacklineCost'] = imputer.transform(data[['BacklineCost']])\n",
        "\n",
        "imputer = SimpleImputer(missing_values=np.nan, strategy='median')\n",
        "imputer = imputer.fit(data[['BacklineCost']])\n",
        "data['BacklineCost'] = imputer.transform(data[['BacklineCost']])"
      ]
    },
    {
      "cell_type": "markdown",
      "metadata": {
        "id": "myLVgevDwhO6"
      },
      "source": [
        "The table below shows that all of the NANs are gone. This part of the cleaning is now completed."
      ]
    },
    {
      "cell_type": "code",
      "execution_count": null,
      "metadata": {
        "id": "jKWAViQMEWti",
        "colab": {
          "base_uri": "https://localhost:8080/"
        },
        "outputId": "c3e1217f-301d-4f07-8e7a-8a766beff197"
      },
      "outputs": [
        {
          "output_type": "execute_result",
          "data": {
            "text/plain": [
              "Customer Key                   0\n",
              "MaintenanceAgreementCount      0\n",
              "ContractRevenue                0\n",
              "MainEquipmentCount             0\n",
              "PartsCost                      0\n",
              "BacklineCost                   0\n",
              "TotalLaborTime                 0\n",
              "TotalTravelTime                0\n",
              "TotalLaborCost                 0\n",
              "TotalTravelCost                0\n",
              "TotalServiceCalls              0\n",
              "TotalServiceCallEscalations    0\n",
              "Tenure                         0\n",
              "Churned                        0\n",
              "dtype: int64"
            ]
          },
          "metadata": {},
          "execution_count": 14
        }
      ],
      "source": [
        "data.isnull().sum()"
      ]
    },
    {
      "cell_type": "markdown",
      "metadata": {
        "id": "MqTWvcdRwMQO"
      },
      "source": [
        "## Outliers\n",
        "\n",
        "The last part of cleaning was fixing the outliers. There were two way that we decided to fix the outliers. The first one can be seen in the code line below. The scaling is done by MinMaxScaler. This function is important because it adjusts each column separately to make sure the values fall within a minimum and maximum. This normalizes the values by subtracting the minimum value from each entry and then divide by the range."
      ]
    },
    {
      "cell_type": "code",
      "execution_count": null,
      "metadata": {
        "id": "fuojTS63wptI"
      },
      "outputs": [],
      "source": [
        "min_max_scaler = preprocessing.MinMaxScaler()\n",
        "data['ContractRevenue'] = min_max_scaler.fit_transform(data[['ContractRevenue']])\n",
        "min_max_scaler = preprocessing.MinMaxScaler()\n",
        "data['MainEquipmentCount'] = min_max_scaler.fit_transform(data[['MainEquipmentCount']])\n",
        "min_max_scaler = preprocessing.MinMaxScaler()\n",
        "data['PartsCost'] = min_max_scaler.fit_transform(data[['PartsCost']])"
      ]
    },
    {
      "cell_type": "markdown",
      "metadata": {
        "id": "5vk2ddMldGzi"
      },
      "source": [
        "Since those columns have no more outliers, we moved on to the next ones. The BacklineCost column had no more outliers because there were so many NANs which meant that the inputs were already imputed to the mean and median.\n",
        "\n",
        "The TotalLaborTime and TotalTravelTime columns were imputed using the Z score. A Z score is a measurement of the relationship between a specific value and the mean of that column. If the Z score was larger than 3 then the numbers were imputed to the median. A histogram was made for each of the columns to be able to visualize the outliers."
      ]
    },
    {
      "cell_type": "code",
      "execution_count": null,
      "metadata": {
        "id": "1A3wD30AvibN",
        "colab": {
          "base_uri": "https://localhost:8080/",
          "height": 470
        },
        "outputId": "2d9d6bf2-afaf-4b0c-c1da-30c9b60b25aa"
      },
      "outputs": [
        {
          "output_type": "execute_result",
          "data": {
            "text/plain": [
              "array([[<Axes: title={'center': 'TotalLaborTime'}>]], dtype=object)"
            ]
          },
          "metadata": {},
          "execution_count": 16
        },
        {
          "output_type": "display_data",
          "data": {
            "text/plain": [
              "<Figure size 640x480 with 1 Axes>"
            ],
            "image/png": "[encoded data removed]"
          },
          "metadata": {}
        }
      ],
      "source": [
        "data.hist(column='TotalLaborTime')"
      ]
    },
    {
      "cell_type": "code",
      "execution_count": null,
      "metadata": {
        "id": "3BVZJCxcxN7T"
      },
      "outputs": [],
      "source": [
        "z = stats.zscore(data['TotalLaborTime'])"
      ]
    },
    {
      "cell_type": "code",
      "execution_count": null,
      "metadata": {
        "id": "MPvCZJcX25fK",
        "colab": {
          "base_uri": "https://localhost:8080/"
        },
        "outputId": "bf6cbc09-dcc1-4a5b-c6cc-cbfd328f5564"
      },
      "outputs": [
        {
          "output_type": "execute_result",
          "data": {
            "text/plain": [
              "0       -0.063884\n",
              "1       -0.097723\n",
              "2       -0.157880\n",
              "3       -0.137827\n",
              "4       -0.157880\n",
              "           ...   \n",
              "12359   -0.124041\n",
              "12360    0.189027\n",
              "12361   -0.157880\n",
              "12362   -0.157880\n",
              "12363   -0.157880\n",
              "Name: TotalLaborTime, Length: 12364, dtype: float64"
            ]
          },
          "metadata": {},
          "execution_count": 18
        }
      ],
      "source": [
        "z"
      ]
    },
    {
      "cell_type": "code",
      "execution_count": null,
      "metadata": {
        "id": "KvLxp4M027ua"
      },
      "outputs": [],
      "source": [
        "outliers = data[z>3]"
      ]
    },
    {
      "cell_type": "code",
      "execution_count": null,
      "metadata": {
        "id": "HkSrGN-l38Th"
      },
      "outputs": [],
      "source": [
        "data.loc[z>3, 'TotalLaborTime'] = data['TotalLaborTime'].median()"
      ]
    },
    {
      "cell_type": "code",
      "execution_count": null,
      "metadata": {
        "id": "15nudUY35ndf",
        "colab": {
          "base_uri": "https://localhost:8080/",
          "height": 470
        },
        "outputId": "23f7a74c-bbff-4d5f-827f-eafd2a25b6fd"
      },
      "outputs": [
        {
          "output_type": "execute_result",
          "data": {
            "text/plain": [
              "array([[<Axes: title={'center': 'TotalTravelTime'}>]], dtype=object)"
            ]
          },
          "metadata": {},
          "execution_count": 21
        },
        {
          "output_type": "display_data",
          "data": {
            "text/plain": [
              "<Figure size 640x480 with 1 Axes>"
            ],
            "image/png": "[encoded data removed]"
          },
          "metadata": {}
        }
      ],
      "source": [
        "data.hist(column = 'TotalTravelTime')"
      ]
    },
    {
      "cell_type": "code",
      "execution_count": null,
      "metadata": {
        "id": "eWWVUcjg5xuv"
      },
      "outputs": [],
      "source": [
        "z = stats.zscore(data['TotalTravelTime'])"
      ]
    },
    {
      "cell_type": "code",
      "execution_count": null,
      "metadata": {
        "id": "GweYjOde6S1P",
        "colab": {
          "base_uri": "https://localhost:8080/"
        },
        "outputId": "64f9370f-50f3-4e70-abad-0966188816d2"
      },
      "outputs": [
        {
          "output_type": "execute_result",
          "data": {
            "text/plain": [
              "0       -0.202889\n",
              "1       -0.152133\n",
              "2       -0.221589\n",
              "3       -0.221589\n",
              "4       -0.221589\n",
              "           ...   \n",
              "12359   -0.221589\n",
              "12360    0.541890\n",
              "12361   -0.221589\n",
              "12362   -0.221589\n",
              "12363   -0.221589\n",
              "Name: TotalTravelTime, Length: 12364, dtype: float64"
            ]
          },
          "metadata": {},
          "execution_count": 23
        }
      ],
      "source": [
        "z"
      ]
    },
    {
      "cell_type": "code",
      "execution_count": null,
      "metadata": {
        "id": "3coBVzGlE3fi"
      },
      "outputs": [],
      "source": [
        "outliers = data[z>3]"
      ]
    },
    {
      "cell_type": "code",
      "execution_count": null,
      "metadata": {
        "id": "EUWEpf7lFOt0"
      },
      "outputs": [],
      "source": [
        "data.loc[z>3, 'TotalTravelTime'] = data['TotalTravelTime'].median()"
      ]
    },
    {
      "cell_type": "markdown",
      "metadata": {
        "id": "WfBxDUKDeHW1"
      },
      "source": [
        "The outliers in the last three columns were rescaled and then the Z score was used to find the outliers and those values were then imputed to the median."
      ]
    },
    {
      "cell_type": "code",
      "execution_count": null,
      "metadata": {
        "id": "9kNDsFUEjK7o"
      },
      "outputs": [],
      "source": [
        "min_max_scaler = preprocessing.MinMaxScaler()\n",
        "data['TotalLaborCost'] = min_max_scaler.fit_transform(data[['TotalLaborCost']])\n",
        "min_max_scaler = preprocessing.MinMaxScaler()\n",
        "data['TotalTravelCost'] = min_max_scaler.fit_transform(data[['TotalTravelCost']])\n",
        "min_max_scaler = preprocessing.MinMaxScaler()\n",
        "data['TotalServiceCalls'] = min_max_scaler.fit_transform(data[['TotalServiceCalls']])"
      ]
    },
    {
      "cell_type": "code",
      "execution_count": null,
      "metadata": {
        "id": "iIcXDN_LjxB1",
        "colab": {
          "base_uri": "https://localhost:8080/",
          "height": 470
        },
        "outputId": "41a3df82-3fe8-480f-be29-a7b5ebb2f8b2"
      },
      "outputs": [
        {
          "output_type": "execute_result",
          "data": {
            "text/plain": [
              "array([[<Axes: title={'center': 'TotalLaborCost'}>]], dtype=object)"
            ]
          },
          "metadata": {},
          "execution_count": 27
        },
        {
          "output_type": "display_data",
          "data": {
            "text/plain": [
              "<Figure size 640x480 with 1 Axes>"
            ],
            "image/png": "[encoded data removed]"
          },
          "metadata": {}
        }
      ],
      "source": [
        "data.hist(column='TotalLaborCost')"
      ]
    },
    {
      "cell_type": "code",
      "execution_count": null,
      "metadata": {
        "id": "esSgTT8pj3tc"
      },
      "outputs": [],
      "source": [
        "z_scores = stats.zscore(data['TotalLaborCost'].dropna())"
      ]
    },
    {
      "cell_type": "code",
      "execution_count": null,
      "metadata": {
        "id": "txvKTMMLj5jr"
      },
      "outputs": [],
      "source": [
        "median_labor_cost = data['TotalLaborCost'].median()"
      ]
    },
    {
      "cell_type": "code",
      "execution_count": null,
      "metadata": {
        "id": "eua8xIQVj7nG"
      },
      "outputs": [],
      "source": [
        "data.loc[z_scores > 3, 'TotalLaborCost'] = median_labor_cost"
      ]
    },
    {
      "cell_type": "code",
      "execution_count": null,
      "metadata": {
        "id": "pIT7p-OPj-iY"
      },
      "outputs": [],
      "source": [
        "data.loc[z_scores > 3, 'TotalLaborCost'] = data ['TotalLaborCost'].median()"
      ]
    },
    {
      "cell_type": "code",
      "execution_count": null,
      "metadata": {
        "id": "9fZPAXkCkMOO",
        "colab": {
          "base_uri": "https://localhost:8080/",
          "height": 470
        },
        "outputId": "9f4e5986-beec-4e6b-9349-0b00a2b1f34b"
      },
      "outputs": [
        {
          "output_type": "execute_result",
          "data": {
            "text/plain": [
              "array([[<Axes: title={'center': 'TotalTravelCost'}>]], dtype=object)"
            ]
          },
          "metadata": {},
          "execution_count": 32
        },
        {
          "output_type": "display_data",
          "data": {
            "text/plain": [
              "<Figure size 640x480 with 1 Axes>"
            ],
            "image/png": "[encoded data removed]"
          },
          "metadata": {}
        }
      ],
      "source": [
        "data.hist(column='TotalTravelCost')"
      ]
    },
    {
      "cell_type": "code",
      "execution_count": null,
      "metadata": {
        "id": "WZSY6jaZkZjE"
      },
      "outputs": [],
      "source": [
        "z_scores = stats.zscore(data['TotalTravelCost'].dropna())"
      ]
    },
    {
      "cell_type": "code",
      "execution_count": null,
      "metadata": {
        "id": "Yp-S0iwmkbrb"
      },
      "outputs": [],
      "source": [
        "median_travel_cost = data['TotalTravelCost'].median()"
      ]
    },
    {
      "cell_type": "code",
      "execution_count": null,
      "metadata": {
        "id": "pYvH6N6Ekdlj"
      },
      "outputs": [],
      "source": [
        "data.loc[z_scores > 3, 'TotalTravelCost'] = median_travel_cost"
      ]
    },
    {
      "cell_type": "code",
      "execution_count": null,
      "metadata": {
        "id": "CH2ueTmxkfbG"
      },
      "outputs": [],
      "source": [
        "data.loc[z_scores > 3, 'TotalTravelCost'] = data['TotalTravelCost'].median()"
      ]
    },
    {
      "cell_type": "code",
      "execution_count": null,
      "metadata": {
        "id": "R_7eg4hokmP1",
        "colab": {
          "base_uri": "https://localhost:8080/",
          "height": 470
        },
        "outputId": "f6f9319e-eb2d-4927-f3c6-0c6beb451d08"
      },
      "outputs": [
        {
          "output_type": "execute_result",
          "data": {
            "text/plain": [
              "array([[<Axes: title={'center': 'TotalServiceCalls'}>]], dtype=object)"
            ]
          },
          "metadata": {},
          "execution_count": 37
        },
        {
          "output_type": "display_data",
          "data": {
            "text/plain": [
              "<Figure size 640x480 with 1 Axes>"
            ],
            "image/png": "[encoded data removed]"
          },
          "metadata": {}
        }
      ],
      "source": [
        "data.hist(column='TotalServiceCalls')"
      ]
    },
    {
      "cell_type": "code",
      "execution_count": null,
      "metadata": {
        "id": "kDzoI-bbkrFl"
      },
      "outputs": [],
      "source": [
        "z_scores = stats.zscore(data['TotalServiceCalls'].dropna())"
      ]
    },
    {
      "cell_type": "code",
      "execution_count": null,
      "metadata": {
        "id": "nYUrpfHPksy1"
      },
      "outputs": [],
      "source": [
        "median_service_calls = data['TotalServiceCalls'].median()"
      ]
    },
    {
      "cell_type": "code",
      "execution_count": null,
      "metadata": {
        "id": "hRNC0G7vku3z"
      },
      "outputs": [],
      "source": [
        "data.loc[z_scores > 3, 'TotalServiceCalls'] = median_service_calls"
      ]
    },
    {
      "cell_type": "code",
      "execution_count": null,
      "metadata": {
        "id": "C5V8MaVQkyFP"
      },
      "outputs": [],
      "source": [
        "data.loc[z_scores > 3, 'TotalServiceCalls'] = data['TotalServiceCalls'].median()"
      ]
    },
    {
      "cell_type": "markdown",
      "metadata": {
        "id": "D2XjqzIDEtrc"
      },
      "source": [
        "This is what the data set looks like before there has been any modeling done."
      ]
    },
    {
      "cell_type": "code",
      "execution_count": null,
      "metadata": {
        "id": "vXOWw5SpiX-V",
        "colab": {
          "base_uri": "https://localhost:8080/",
          "height": 461
        },
        "outputId": "3dea6a99-b3db-4f31-cfde-f243c87da93f"
      },
      "outputs": [
        {
          "output_type": "execute_result",
          "data": {
            "text/plain": [
              "       Customer Key  MaintenanceAgreementCount  ContractRevenue  \\\n",
              "0             26497                         37         0.001929   \n",
              "1             26503                         36         0.001412   \n",
              "2             26511                         11         0.000100   \n",
              "3             26519                         24         0.000267   \n",
              "4             26545                         12         0.000096   \n",
              "...             ...                        ...              ...   \n",
              "12359         18244                         75         0.001270   \n",
              "12360         18245                        110         0.018844   \n",
              "12361         18252                         42         0.001270   \n",
              "12362         18254                         32         0.001270   \n",
              "12363         18260                          8         0.001270   \n",
              "\n",
              "       MainEquipmentCount  PartsCost   BacklineCost  TotalLaborTime  \\\n",
              "0                0.004259   0.006778  4.792453e-310           18.75   \n",
              "1                0.001545   0.000514  4.792453e-310           12.00   \n",
              "2                0.000175   0.000794  4.792453e-310            0.00   \n",
              "3                0.000158   0.000253  4.792453e-310            4.00   \n",
              "4                0.000158   0.000794  4.792453e-310            0.00   \n",
              "...                   ...        ...            ...             ...   \n",
              "12359            0.000867   0.000794  4.792453e-310            6.75   \n",
              "12360            0.006688   0.009290  4.792453e-310           69.20   \n",
              "12361            0.000867   0.000794  4.792453e-310            0.00   \n",
              "12362            0.000867   0.000794  4.792453e-310            0.00   \n",
              "12363            0.000867   0.000794  4.792453e-310            0.00   \n",
              "\n",
              "       TotalTravelTime  TotalLaborCost  TotalTravelCost  TotalServiceCalls  \\\n",
              "0                 1.75        0.197282         0.000613           0.001073   \n",
              "1                 6.50        0.599899         0.002287           0.000501   \n",
              "2                 0.00        0.197282         0.003168           0.000572   \n",
              "3                 0.00        0.197282         0.003168           0.000286   \n",
              "4                 0.00        0.197282         0.003168           0.000572   \n",
              "...                ...             ...              ...                ...   \n",
              "12359             0.00        0.335682         0.003168           0.001717   \n",
              "12360            71.45        0.197282         0.025178           0.004151   \n",
              "12361             0.00        0.197282         0.003168           0.000000   \n",
              "12362             0.00        0.197282         0.003168           0.000572   \n",
              "12363             0.00        0.197282         0.003168           0.000572   \n",
              "\n",
              "       TotalServiceCallEscalations  Tenure  Churned  \n",
              "0                                0      36        0  \n",
              "1                                0      36        0  \n",
              "2                                0      12        1  \n",
              "3                                0      24        1  \n",
              "4                                0      12        1  \n",
              "...                            ...     ...      ...  \n",
              "12359                            0      58        1  \n",
              "12360                            0     118        0  \n",
              "12361                            0      42        1  \n",
              "12362                            0      32        1  \n",
              "12363                            0       9        1  \n",
              "\n",
              "[12364 rows x 14 columns]"
            ],
            "text/html": [
              "\n",
              "  <div id=\"df-f49a857a-fc05-4d8a-8bb3-aa4523d3f4fd\" class=\"colab-df-container\">\n",
              "    <div>\n",
              "<style scoped>\n",
              "    .dataframe tbody tr th:only-of-type {\n",
              "        vertical-align: middle;\n",
              "    }\n",
              "\n",
              "    .dataframe tbody tr th {\n",
              "        vertical-align: top;\n",
              "    }\n",
              "\n",
              "    .dataframe thead th {\n",
              "        text-align: right;\n",
              "    }\n",
              "</style>\n",
              "<table border=\"1\" class=\"dataframe\">\n",
              "  <thead>\n",
              "    <tr style=\"text-align: right;\">\n",
              "      <th></th>\n",
              "      <th>Customer Key</th>\n",
              "      <th>MaintenanceAgreementCount</th>\n",
              "      <th>ContractRevenue</th>\n",
              "      <th>MainEquipmentCount</th>\n",
              "      <th>PartsCost</th>\n",
              "      <th>BacklineCost</th>\n",
              "      <th>TotalLaborTime</th>\n",
              "      <th>TotalTravelTime</th>\n",
              "      <th>TotalLaborCost</th>\n",
              "      <th>TotalTravelCost</th>\n",
              "      <th>TotalServiceCalls</th>\n",
              "      <th>TotalServiceCallEscalations</th>\n",
              "      <th>Tenure</th>\n",
              "      <th>Churned</th>\n",
              "    </tr>\n",
              "  </thead>\n",
              "  <tbody>\n",
              "    <tr>\n",
              "      <th>0</th>\n",
              "      <td>26497</td>\n",
              "      <td>37</td>\n",
              "      <td>0.001929</td>\n",
              "      <td>0.004259</td>\n",
              "      <td>0.006778</td>\n",
              "      <td>4.792453e-310</td>\n",
              "      <td>18.75</td>\n",
              "      <td>1.75</td>\n",
              "      <td>0.197282</td>\n",
              "      <td>0.000613</td>\n",
              "      <td>0.001073</td>\n",
              "      <td>0</td>\n",
              "      <td>36</td>\n",
              "      <td>0</td>\n",
              "    </tr>\n",
              "    <tr>\n",
              "      <th>1</th>\n",
              "      <td>26503</td>\n",
              "      <td>36</td>\n",
              "      <td>0.001412</td>\n",
              "      <td>0.001545</td>\n",
              "      <td>0.000514</td>\n",
              "      <td>4.792453e-310</td>\n",
              "      <td>12.00</td>\n",
              "      <td>6.50</td>\n",
              "      <td>0.599899</td>\n",
              "      <td>0.002287</td>\n",
              "      <td>0.000501</td>\n",
              "      <td>0</td>\n",
              "      <td>36</td>\n",
              "      <td>0</td>\n",
              "    </tr>\n",
              "    <tr>\n",
              "      <th>2</th>\n",
              "      <td>26511</td>\n",
              "      <td>11</td>\n",
              "      <td>0.000100</td>\n",
              "      <td>0.000175</td>\n",
              "      <td>0.000794</td>\n",
              "      <td>4.792453e-310</td>\n",
              "      <td>0.00</td>\n",
              "      <td>0.00</td>\n",
              "      <td>0.197282</td>\n",
              "      <td>0.003168</td>\n",
              "      <td>0.000572</td>\n",
              "      <td>0</td>\n",
              "      <td>12</td>\n",
              "      <td>1</td>\n",
              "    </tr>\n",
              "    <tr>\n",
              "      <th>3</th>\n",
              "      <td>26519</td>\n",
              "      <td>24</td>\n",
              "      <td>0.000267</td>\n",
              "      <td>0.000158</td>\n",
              "      <td>0.000253</td>\n",
              "      <td>4.792453e-310</td>\n",
              "      <td>4.00</td>\n",
              "      <td>0.00</td>\n",
              "      <td>0.197282</td>\n",
              "      <td>0.003168</td>\n",
              "      <td>0.000286</td>\n",
              "      <td>0</td>\n",
              "      <td>24</td>\n",
              "      <td>1</td>\n",
              "    </tr>\n",
              "    <tr>\n",
              "      <th>4</th>\n",
              "      <td>26545</td>\n",
              "      <td>12</td>\n",
              "      <td>0.000096</td>\n",
              "      <td>0.000158</td>\n",
              "      <td>0.000794</td>\n",
              "      <td>4.792453e-310</td>\n",
              "      <td>0.00</td>\n",
              "      <td>0.00</td>\n",
              "      <td>0.197282</td>\n",
              "      <td>0.003168</td>\n",
              "      <td>0.000572</td>\n",
              "      <td>0</td>\n",
              "      <td>12</td>\n",
              "      <td>1</td>\n",
              "    </tr>\n",
              "    <tr>\n",
              "      <th>...</th>\n",
              "      <td>...</td>\n",
              "      <td>...</td>\n",
              "      <td>...</td>\n",
              "      <td>...</td>\n",
              "      <td>...</td>\n",
              "      <td>...</td>\n",
              "      <td>...</td>\n",
              "      <td>...</td>\n",
              "      <td>...</td>\n",
              "      <td>...</td>\n",
              "      <td>...</td>\n",
              "      <td>...</td>\n",
              "      <td>...</td>\n",
              "      <td>...</td>\n",
              "    </tr>\n",
              "    <tr>\n",
              "      <th>12359</th>\n",
              "      <td>18244</td>\n",
              "      <td>75</td>\n",
              "      <td>0.001270</td>\n",
              "      <td>0.000867</td>\n",
              "      <td>0.000794</td>\n",
              "      <td>4.792453e-310</td>\n",
              "      <td>6.75</td>\n",
              "      <td>0.00</td>\n",
              "      <td>0.335682</td>\n",
              "      <td>0.003168</td>\n",
              "      <td>0.001717</td>\n",
              "      <td>0</td>\n",
              "      <td>58</td>\n",
              "      <td>1</td>\n",
              "    </tr>\n",
              "    <tr>\n",
              "      <th>12360</th>\n",
              "      <td>18245</td>\n",
              "      <td>110</td>\n",
              "      <td>0.018844</td>\n",
              "      <td>0.006688</td>\n",
              "      <td>0.009290</td>\n",
              "      <td>4.792453e-310</td>\n",
              "      <td>69.20</td>\n",
              "      <td>71.45</td>\n",
              "      <td>0.197282</td>\n",
              "      <td>0.025178</td>\n",
              "      <td>0.004151</td>\n",
              "      <td>0</td>\n",
              "      <td>118</td>\n",
              "      <td>0</td>\n",
              "    </tr>\n",
              "    <tr>\n",
              "      <th>12361</th>\n",
              "      <td>18252</td>\n",
              "      <td>42</td>\n",
              "      <td>0.001270</td>\n",
              "      <td>0.000867</td>\n",
              "      <td>0.000794</td>\n",
              "      <td>4.792453e-310</td>\n",
              "      <td>0.00</td>\n",
              "      <td>0.00</td>\n",
              "      <td>0.197282</td>\n",
              "      <td>0.003168</td>\n",
              "      <td>0.000000</td>\n",
              "      <td>0</td>\n",
              "      <td>42</td>\n",
              "      <td>1</td>\n",
              "    </tr>\n",
              "    <tr>\n",
              "      <th>12362</th>\n",
              "      <td>18254</td>\n",
              "      <td>32</td>\n",
              "      <td>0.001270</td>\n",
              "      <td>0.000867</td>\n",
              "      <td>0.000794</td>\n",
              "      <td>4.792453e-310</td>\n",
              "      <td>0.00</td>\n",
              "      <td>0.00</td>\n",
              "      <td>0.197282</td>\n",
              "      <td>0.003168</td>\n",
              "      <td>0.000572</td>\n",
              "      <td>0</td>\n",
              "      <td>32</td>\n",
              "      <td>1</td>\n",
              "    </tr>\n",
              "    <tr>\n",
              "      <th>12363</th>\n",
              "      <td>18260</td>\n",
              "      <td>8</td>\n",
              "      <td>0.001270</td>\n",
              "      <td>0.000867</td>\n",
              "      <td>0.000794</td>\n",
              "      <td>4.792453e-310</td>\n",
              "      <td>0.00</td>\n",
              "      <td>0.00</td>\n",
              "      <td>0.197282</td>\n",
              "      <td>0.003168</td>\n",
              "      <td>0.000572</td>\n",
              "      <td>0</td>\n",
              "      <td>9</td>\n",
              "      <td>1</td>\n",
              "    </tr>\n",
              "  </tbody>\n",
              "</table>\n",
              "<p>12364 rows × 14 columns</p>\n",
              "</div>\n",
              "    <div class=\"colab-df-buttons\">\n",
              "\n",
              "  <div class=\"colab-df-container\">\n",
              "    <button class=\"colab-df-convert\" onclick=\"convertToInteractive('df-f49a857a-fc05-4d8a-8bb3-aa4523d3f4fd')\"\n",
              "            title=\"Convert this dataframe to an interactive table.\"\n",
              "            style=\"display:none;\">\n",
              "\n",
              "  <svg xmlns=\"http://www.w3.org/2000/svg\" height=\"24px\" viewBox=\"0 -960 960 960\">\n",
              "    <path d=\"M120-120v-720h720v720H120Zm60-500h600v-160H180v160Zm220 220h160v-160H400v160Zm0 220h160v-160H400v160ZM180-400h160v-160H180v160Zm440 0h160v-160H620v160ZM180-180h160v-160H180v160Zm440 0h160v-160H620v160Z\"/>\n",
              "  </svg>\n",
              "    </button>\n",
              "\n",
              "  <style>\n",
              "    .colab-df-container {\n",
              "      display:flex;\n",
              "      gap: 12px;\n",
              "    }\n",
              "\n",
              "    .colab-df-convert {\n",
              "      background-color: #E8F0FE;\n",
              "      border: none;\n",
              "      border-radius: 50%;\n",
              "      cursor: pointer;\n",
              "      display: none;\n",
              "      fill: #1967D2;\n",
              "      height: 32px;\n",
              "      padding: 0 0 0 0;\n",
              "      width: 32px;\n",
              "    }\n",
              "\n",
              "    .colab-df-convert:hover {\n",
              "      background-color: #E2EBFA;\n",
              "      box-shadow: 0px 1px 2px rgba(60, 64, 67, 0.3), 0px 1px 3px 1px rgba(60, 64, 67, 0.15);\n",
              "      fill: #174EA6;\n",
              "    }\n",
              "\n",
              "    .colab-df-buttons div {\n",
              "      margin-bottom: 4px;\n",
              "    }\n",
              "\n",
              "    [theme=dark] .colab-df-convert {\n",
              "      background-color: #3B4455;\n",
              "      fill: #D2E3FC;\n",
              "    }\n",
              "\n",
              "    [theme=dark] .colab-df-convert:hover {\n",
              "      background-color: #434B5C;\n",
              "      box-shadow: 0px 1px 3px 1px rgba(0, 0, 0, 0.15);\n",
              "      filter: drop-shadow(0px 1px 2px rgba(0, 0, 0, 0.3));\n",
              "      fill: #FFFFFF;\n",
              "    }\n",
              "  </style>\n",
              "\n",
              "    <script>\n",
              "      const buttonEl =\n",
              "        document.querySelector('#df-f49a857a-fc05-4d8a-8bb3-aa4523d3f4fd button.colab-df-convert');\n",
              "      buttonEl.style.display =\n",
              "        google.colab.kernel.accessAllowed ? 'block' : 'none';\n",
              "\n",
              "      async function convertToInteractive(key) {\n",
              "        const element = document.querySelector('#df-f49a857a-fc05-4d8a-8bb3-aa4523d3f4fd');\n",
              "        const dataTable =\n",
              "          await google.colab.kernel.invokeFunction('convertToInteractive',\n",
              "                                                    [key], {});\n",
              "        if (!dataTable) return;\n",
              "\n",
              "        const docLinkHtml = 'Like what you see? Visit the ' +\n",
              "          '<a target=\"_blank\" href=https://colab.research.google.com/notebooks/data_table.ipynb>data table notebook</a>'\n",
              "          + ' to learn more about interactive tables.';\n",
              "        element.innerHTML = '';\n",
              "        dataTable['output_type'] = 'display_data';\n",
              "        await google.colab.output.renderOutput(dataTable, element);\n",
              "        const docLink = document.createElement('div');\n",
              "        docLink.innerHTML = docLinkHtml;\n",
              "        element.appendChild(docLink);\n",
              "      }\n",
              "    </script>\n",
              "  </div>\n",
              "\n",
              "\n",
              "<div id=\"df-1b2c6f1e-499d-4afb-97c5-ae667ade60c3\">\n",
              "  <button class=\"colab-df-quickchart\" onclick=\"quickchart('df-1b2c6f1e-499d-4afb-97c5-ae667ade60c3')\"\n",
              "            title=\"Suggest charts\"\n",
              "            style=\"display:none;\">\n",
              "\n",
              "<svg xmlns=\"http://www.w3.org/2000/svg\" height=\"24px\"viewBox=\"0 0 24 24\"\n",
              "     width=\"24px\">\n",
              "    <g>\n",
              "        <path d=\"M19 3H5c-1.1 0-2 .9-2 2v14c0 1.1.9 2 2 2h14c1.1 0 2-.9 2-2V5c0-1.1-.9-2-2-2zM9 17H7v-7h2v7zm4 0h-2V7h2v10zm4 0h-2v-4h2v4z\"/>\n",
              "    </g>\n",
              "</svg>\n",
              "  </button>\n",
              "\n",
              "<style>\n",
              "  .colab-df-quickchart {\n",
              "      --bg-color: #E8F0FE;\n",
              "      --fill-color: #1967D2;\n",
              "      --hover-bg-color: #E2EBFA;\n",
              "      --hover-fill-color: #174EA6;\n",
              "      --disabled-fill-color: #AAA;\n",
              "      --disabled-bg-color: #DDD;\n",
              "  }\n",
              "\n",
              "  [theme=dark] .colab-df-quickchart {\n",
              "      --bg-color: #3B4455;\n",
              "      --fill-color: #D2E3FC;\n",
              "      --hover-bg-color: #434B5C;\n",
              "      --hover-fill-color: #FFFFFF;\n",
              "      --disabled-bg-color: #3B4455;\n",
              "      --disabled-fill-color: #666;\n",
              "  }\n",
              "\n",
              "  .colab-df-quickchart {\n",
              "    background-color: var(--bg-color);\n",
              "    border: none;\n",
              "    border-radius: 50%;\n",
              "    cursor: pointer;\n",
              "    display: none;\n",
              "    fill: var(--fill-color);\n",
              "    height: 32px;\n",
              "    padding: 0;\n",
              "    width: 32px;\n",
              "  }\n",
              "\n",
              "  .colab-df-quickchart:hover {\n",
              "    background-color: var(--hover-bg-color);\n",
              "    box-shadow: 0 1px 2px rgba(60, 64, 67, 0.3), 0 1px 3px 1px rgba(60, 64, 67, 0.15);\n",
              "    fill: var(--button-hover-fill-color);\n",
              "  }\n",
              "\n",
              "  .colab-df-quickchart-complete:disabled,\n",
              "  .colab-df-quickchart-complete:disabled:hover {\n",
              "    background-color: var(--disabled-bg-color);\n",
              "    fill: var(--disabled-fill-color);\n",
              "    box-shadow: none;\n",
              "  }\n",
              "\n",
              "  .colab-df-spinner {\n",
              "    border: 2px solid var(--fill-color);\n",
              "    border-color: transparent;\n",
              "    border-bottom-color: var(--fill-color);\n",
              "    animation:\n",
              "      spin 1s steps(1) infinite;\n",
              "  }\n",
              "\n",
              "  @keyframes spin {\n",
              "    0% {\n",
              "      border-color: transparent;\n",
              "      border-bottom-color: var(--fill-color);\n",
              "      border-left-color: var(--fill-color);\n",
              "    }\n",
              "    20% {\n",
              "      border-color: transparent;\n",
              "      border-left-color: var(--fill-color);\n",
              "      border-top-color: var(--fill-color);\n",
              "    }\n",
              "    30% {\n",
              "      border-color: transparent;\n",
              "      border-left-color: var(--fill-color);\n",
              "      border-top-color: var(--fill-color);\n",
              "      border-right-color: var(--fill-color);\n",
              "    }\n",
              "    40% {\n",
              "      border-color: transparent;\n",
              "      border-right-color: var(--fill-color);\n",
              "      border-top-color: var(--fill-color);\n",
              "    }\n",
              "    60% {\n",
              "      border-color: transparent;\n",
              "      border-right-color: var(--fill-color);\n",
              "    }\n",
              "    80% {\n",
              "      border-color: transparent;\n",
              "      border-right-color: var(--fill-color);\n",
              "      border-bottom-color: var(--fill-color);\n",
              "    }\n",
              "    90% {\n",
              "      border-color: transparent;\n",
              "      border-bottom-color: var(--fill-color);\n",
              "    }\n",
              "  }\n",
              "</style>\n",
              "\n",
              "  <script>\n",
              "    async function quickchart(key) {\n",
              "      const quickchartButtonEl =\n",
              "        document.querySelector('#' + key + ' button');\n",
              "      quickchartButtonEl.disabled = true;  // To prevent multiple clicks.\n",
              "      quickchartButtonEl.classList.add('colab-df-spinner');\n",
              "      try {\n",
              "        const charts = await google.colab.kernel.invokeFunction(\n",
              "            'suggestCharts', [key], {});\n",
              "      } catch (error) {\n",
              "        console.error('Error during call to suggestCharts:', error);\n",
              "      }\n",
              "      quickchartButtonEl.classList.remove('colab-df-spinner');\n",
              "      quickchartButtonEl.classList.add('colab-df-quickchart-complete');\n",
              "    }\n",
              "    (() => {\n",
              "      let quickchartButtonEl =\n",
              "        document.querySelector('#df-1b2c6f1e-499d-4afb-97c5-ae667ade60c3 button');\n",
              "      quickchartButtonEl.style.display =\n",
              "        google.colab.kernel.accessAllowed ? 'block' : 'none';\n",
              "    })();\n",
              "  </script>\n",
              "</div>\n",
              "    </div>\n",
              "  </div>\n"
            ],
            "application/vnd.google.colaboratory.intrinsic+json": {
              "type": "dataframe",
              "variable_name": "data",
              "summary": "{\n  \"name\": \"data\",\n  \"rows\": 12364,\n  \"fields\": [\n    {\n      \"column\": \"Customer Key\",\n      \"properties\": {\n        \"dtype\": \"number\",\n        \"std\": 8848,\n        \"min\": 2647,\n        \"max\": 36959,\n        \"num_unique_values\": 12364,\n        \"samples\": [\n          15102,\n          24135,\n          30681\n        ],\n        \"semantic_type\": \"\",\n        \"description\": \"\"\n      }\n    },\n    {\n      \"column\": \"MaintenanceAgreementCount\",\n      \"properties\": {\n        \"dtype\": \"number\",\n        \"std\": 93,\n        \"min\": 0,\n        \"max\": 6337,\n        \"num_unique_values\": 355,\n        \"samples\": [\n          158,\n          39,\n          200\n        ],\n        \"semantic_type\": \"\",\n        \"description\": \"\"\n      }\n    },\n    {\n      \"column\": \"ContractRevenue\",\n      \"properties\": {\n        \"dtype\": \"number\",\n        \"std\": 0.027556095056463257,\n        \"min\": 0.0,\n        \"max\": 1.0000000000000002,\n        \"num_unique_values\": 8629,\n        \"samples\": [\n          0.0043005282393948465,\n          0.0008170661235133714,\n          7.989793384882527e-05\n        ],\n        \"semantic_type\": \"\",\n        \"description\": \"\"\n      }\n    },\n    {\n      \"column\": \"MainEquipmentCount\",\n      \"properties\": {\n        \"dtype\": \"number\",\n        \"std\": 0.030762310207020624,\n        \"min\": 0.0,\n        \"max\": 1.0,\n        \"num_unique_values\": 2961,\n        \"samples\": [\n          0.039390020657340076,\n          0.008508136976638731,\n          0.00386947248207178\n        ],\n        \"semantic_type\": \"\",\n        \"description\": \"\"\n      }\n    },\n    {\n      \"column\": \"PartsCost\",\n      \"properties\": {\n        \"dtype\": \"number\",\n        \"std\": 0.013783881835998725,\n        \"min\": 0.0,\n        \"max\": 1.0,\n        \"num_unique_values\": 3689,\n        \"samples\": [\n          0.07308774884768533,\n          0.00015845658424781507,\n          8.243077324732669e-05\n        ],\n        \"semantic_type\": \"\",\n        \"description\": \"\"\n      }\n    },\n    {\n      \"column\": \"BacklineCost\",\n      \"properties\": {\n        \"dtype\": \"number\",\n        \"std\": 0.0,\n        \"min\": 4.7924534162824e-310,\n        \"max\": 4.7924534162824e-310,\n        \"num_unique_values\": 1,\n        \"samples\": [\n          4.7924534162824e-310\n        ],\n        \"semantic_type\": \"\",\n        \"description\": \"\"\n      }\n    },\n    {\n      \"column\": \"TotalLaborTime\",\n      \"properties\": {\n        \"dtype\": \"number\",\n        \"std\": 55.00197005719589,\n        \"min\": 0.0,\n        \"max\": 629.04,\n        \"num_unique_values\": 2058,\n        \"samples\": [\n          0.95\n        ],\n        \"semantic_type\": \"\",\n        \"description\": \"\"\n      }\n    },\n    {\n      \"column\": \"TotalTravelTime\",\n      \"properties\": {\n        \"dtype\": \"number\",\n        \"std\": 33.2440681088736,\n        \"min\": 0.0,\n        \"max\": 301.2,\n        \"num_unique_values\": 1459,\n        \"samples\": [\n          1.98\n        ],\n        \"semantic_type\": \"\",\n        \"description\": \"\"\n      }\n    },\n    {\n      \"column\": \"TotalLaborCost\",\n      \"properties\": {\n        \"dtype\": \"number\",\n        \"std\": 0.1466656652797556,\n        \"min\": 0.0,\n        \"max\": 0.8012078510317061,\n        \"num_unique_values\": 408,\n        \"samples\": [\n          0.5747357825868142\n        ],\n        \"semantic_type\": \"\",\n        \"description\": \"\"\n      }\n    },\n    {\n      \"column\": \"TotalTravelCost\",\n      \"properties\": {\n        \"dtype\": \"number\",\n        \"std\": 0.011255893481012526,\n        \"min\": 0.0,\n        \"max\": 0.10632478332784934,\n        \"num_unique_values\": 1471,\n        \"samples\": [\n          0.06554856115952534\n        ],\n        \"semantic_type\": \"\",\n        \"description\": \"\"\n      }\n    },\n    {\n      \"column\": \"TotalServiceCalls\",\n      \"properties\": {\n        \"dtype\": \"number\",\n        \"std\": 0.004048944821236837,\n        \"min\": 0.0,\n        \"max\": 0.04536997280664091,\n        \"num_unique_values\": 383,\n        \"samples\": [\n          0.01738943752683555\n        ],\n        \"semantic_type\": \"\",\n        \"description\": \"\"\n      }\n    },\n    {\n      \"column\": \"TotalServiceCallEscalations\",\n      \"properties\": {\n        \"dtype\": \"number\",\n        \"std\": 2,\n        \"min\": 0,\n        \"max\": 122,\n        \"num_unique_values\": 30,\n        \"samples\": [\n          22\n        ],\n        \"semantic_type\": \"\",\n        \"description\": \"\"\n      }\n    },\n    {\n      \"column\": \"Tenure\",\n      \"properties\": {\n        \"dtype\": \"number\",\n        \"std\": 69,\n        \"min\": 0,\n        \"max\": 3253,\n        \"num_unique_values\": 302,\n        \"samples\": [\n          86\n        ],\n        \"semantic_type\": \"\",\n        \"description\": \"\"\n      }\n    },\n    {\n      \"column\": \"Churned\",\n      \"properties\": {\n        \"dtype\": \"number\",\n        \"std\": 0,\n        \"min\": 0,\n        \"max\": 1,\n        \"num_unique_values\": 2,\n        \"samples\": [\n          1\n        ],\n        \"semantic_type\": \"\",\n        \"description\": \"\"\n      }\n    }\n  ]\n}"
            }
          },
          "metadata": {},
          "execution_count": 42
        }
      ],
      "source": [
        "data"
      ]
    },
    {
      "cell_type": "markdown",
      "metadata": {
        "id": "_1h40JepfwDo"
      },
      "source": [
        "Now that the data set is clean, we can now run the models. We chose to run two models: a logistic model and a random forest model."
      ]
    },
    {
      "cell_type": "markdown",
      "metadata": {
        "id": "Tp5VNYf6EesN"
      },
      "source": [
        "# Logistic Model"
      ]
    },
    {
      "cell_type": "markdown",
      "metadata": {
        "id": "Uz_VqoDE8svj"
      },
      "source": [
        "The first model we decided to build to test this data was a Logistic Regression model. This model works best with binary classification and the outcome variable being categorical."
      ]
    },
    {
      "cell_type": "code",
      "execution_count": null,
      "metadata": {
        "id": "LKzxhvB8jrL8"
      },
      "outputs": [],
      "source": [
        "df = data.values"
      ]
    },
    {
      "cell_type": "code",
      "execution_count": null,
      "metadata": {
        "id": "PGgteBak1vDS"
      },
      "outputs": [],
      "source": [
        "X_mult = df[:,0:13]\n",
        "y = df[:,13]"
      ]
    },
    {
      "cell_type": "code",
      "execution_count": null,
      "metadata": {
        "id": "vXvFXN4R1wi2"
      },
      "outputs": [],
      "source": [
        "X_mult_train, X_mult_test, y_mult_train, y_mult_test = train_test_split(X_mult, y, test_size=0.3, random_state = 0)"
      ]
    },
    {
      "cell_type": "markdown",
      "metadata": {
        "id": "k-KRTyf68_0f"
      },
      "source": [
        "We first split the data into X_mult and Y values. Since we will be predicting using multiple different varaibles we needed to used the multiple variable option for the X values. The feature variables are the inputs and the response variable is the output. The output is the churned column, which is why it is separated from the inputs. We then took the X and Y values to perform the train test split using a 0.3 test size. We went back and added the random state code so that our model would have the same accuracy percentage. This stops the code from running through different random numbers and always stays with the same generated numbers."
      ]
    },
    {
      "cell_type": "code",
      "execution_count": null,
      "metadata": {
        "id": "iQWtSnf71x-q",
        "colab": {
          "base_uri": "https://localhost:8080/",
          "height": 75
        },
        "outputId": "783226a7-d2d7-43e2-f916-530e66be6fd6"
      },
      "outputs": [
        {
          "output_type": "execute_result",
          "data": {
            "text/plain": [
              "LogisticRegression(max_iter=1000)"
            ],
            "text/html": [
              "<style>#sk-container-id-1 {color: black;background-color: white;}#sk-container-id-1 pre{padding: 0;}#sk-container-id-1 div.sk-toggleable {background-color: white;}#sk-container-id-1 label.sk-toggleable__label {cursor: pointer;display: block;width: 100%;margin-bottom: 0;padding: 0.3em;box-sizing: border-box;text-align: center;}#sk-container-id-1 label.sk-toggleable__label-arrow:before {content: \"▸\";float: left;margin-right: 0.25em;color: #696969;}#sk-container-id-1 label.sk-toggleable__label-arrow:hover:before {color: black;}#sk-container-id-1 div.sk-estimator:hover label.sk-toggleable__label-arrow:before {color: black;}#sk-container-id-1 div.sk-toggleable__content {max-height: 0;max-width: 0;overflow: hidden;text-align: left;background-color: #f0f8ff;}#sk-container-id-1 div.sk-toggleable__content pre {margin: 0.2em;color: black;border-radius: 0.25em;background-color: #f0f8ff;}#sk-container-id-1 input.sk-toggleable__control:checked~div.sk-toggleable__content {max-height: 200px;max-width: 100%;overflow: auto;}#sk-container-id-1 input.sk-toggleable__control:checked~label.sk-toggleable__label-arrow:before {content: \"▾\";}#sk-container-id-1 div.sk-estimator input.sk-toggleable__control:checked~label.sk-toggleable__label {background-color: #d4ebff;}#sk-container-id-1 div.sk-label input.sk-toggleable__control:checked~label.sk-toggleable__label {background-color: #d4ebff;}#sk-container-id-1 input.sk-hidden--visually {border: 0;clip: rect(1px 1px 1px 1px);clip: rect(1px, 1px, 1px, 1px);height: 1px;margin: -1px;overflow: hidden;padding: 0;position: absolute;width: 1px;}#sk-container-id-1 div.sk-estimator {font-family: monospace;background-color: #f0f8ff;border: 1px dotted black;border-radius: 0.25em;box-sizing: border-box;margin-bottom: 0.5em;}#sk-container-id-1 div.sk-estimator:hover {background-color: #d4ebff;}#sk-container-id-1 div.sk-parallel-item::after {content: \"\";width: 100%;border-bottom: 1px solid gray;flex-grow: 1;}#sk-container-id-1 div.sk-label:hover label.sk-toggleable__label {background-color: #d4ebff;}#sk-container-id-1 div.sk-serial::before {content: \"\";position: absolute;border-left: 1px solid gray;box-sizing: border-box;top: 0;bottom: 0;left: 50%;z-index: 0;}#sk-container-id-1 div.sk-serial {display: flex;flex-direction: column;align-items: center;background-color: white;padding-right: 0.2em;padding-left: 0.2em;position: relative;}#sk-container-id-1 div.sk-item {position: relative;z-index: 1;}#sk-container-id-1 div.sk-parallel {display: flex;align-items: stretch;justify-content: center;background-color: white;position: relative;}#sk-container-id-1 div.sk-item::before, #sk-container-id-1 div.sk-parallel-item::before {content: \"\";position: absolute;border-left: 1px solid gray;box-sizing: border-box;top: 0;bottom: 0;left: 50%;z-index: -1;}#sk-container-id-1 div.sk-parallel-item {display: flex;flex-direction: column;z-index: 1;position: relative;background-color: white;}#sk-container-id-1 div.sk-parallel-item:first-child::after {align-self: flex-end;width: 50%;}#sk-container-id-1 div.sk-parallel-item:last-child::after {align-self: flex-start;width: 50%;}#sk-container-id-1 div.sk-parallel-item:only-child::after {width: 0;}#sk-container-id-1 div.sk-dashed-wrapped {border: 1px dashed gray;margin: 0 0.4em 0.5em 0.4em;box-sizing: border-box;padding-bottom: 0.4em;background-color: white;}#sk-container-id-1 div.sk-label label {font-family: monospace;font-weight: bold;display: inline-block;line-height: 1.2em;}#sk-container-id-1 div.sk-label-container {text-align: center;}#sk-container-id-1 div.sk-container {/* jupyter's `normalize.less` sets `[hidden] { display: none; }` but bootstrap.min.css set `[hidden] { display: none !important; }` so we also need the `!important` here to be able to override the default hidden behavior on the sphinx rendered scikit-learn.org. See: https://github.com/scikit-learn/scikit-learn/issues/21755 */display: inline-block !important;position: relative;}#sk-container-id-1 div.sk-text-repr-fallback {display: none;}</style><div id=\"sk-container-id-1\" class=\"sk-top-container\"><div class=\"sk-text-repr-fallback\"><pre>LogisticRegression(max_iter=1000)</pre><b>In a Jupyter environment, please rerun this cell to show the HTML representation or trust the notebook. <br />On GitHub, the HTML representation is unable to render, please try loading this page with nbviewer.org.</b></div><div class=\"sk-container\" hidden><div class=\"sk-item\"><div class=\"sk-estimator sk-toggleable\"><input class=\"sk-toggleable__control sk-hidden--visually\" id=\"sk-estimator-id-1\" type=\"checkbox\" checked><label for=\"sk-estimator-id-1\" class=\"sk-toggleable__label sk-toggleable__label-arrow\">LogisticRegression</label><div class=\"sk-toggleable__content\"><pre>LogisticRegression(max_iter=1000)</pre></div></div></div></div></div>"
            ]
          },
          "metadata": {},
          "execution_count": 46
        }
      ],
      "source": [
        "logrmult = linear_model.LogisticRegression(max_iter = 1000)\n",
        "logrmult.fit(X_mult_train, y_mult_train)"
      ]
    },
    {
      "cell_type": "markdown",
      "metadata": {
        "id": "JRVb-UEU_Csq"
      },
      "source": [
        "Once our data was successfully split, we could begin the process of building our logistic model. We decided to do 1,000 iterations because we felt like that would be enough for our model to assess the data."
      ]
    },
    {
      "cell_type": "code",
      "execution_count": null,
      "metadata": {
        "id": "K636k7yc1zcK"
      },
      "outputs": [],
      "source": [
        "predictions = logrmult.predict(X_mult_test)"
      ]
    },
    {
      "cell_type": "markdown",
      "metadata": {
        "id": "KrsxVXZGAfp0"
      },
      "source": [
        "Once our logistic model was created, we were able to generate the predictions found from the model. This can be seen below with the array showing 0 or 1."
      ]
    },
    {
      "cell_type": "code",
      "execution_count": null,
      "metadata": {
        "id": "ANymHxSE11Ko",
        "colab": {
          "base_uri": "https://localhost:8080/"
        },
        "outputId": "aa79aeb7-6bdf-4a08-b2cb-7c95817a298a"
      },
      "outputs": [
        {
          "output_type": "execute_result",
          "data": {
            "text/plain": [
              "array([0., 1., 0., ..., 1., 1., 0.])"
            ]
          },
          "metadata": {},
          "execution_count": 48
        }
      ],
      "source": [
        "predictions"
      ]
    },
    {
      "cell_type": "code",
      "execution_count": null,
      "metadata": {
        "id": "DTxWoc0z102t"
      },
      "outputs": [],
      "source": [
        "errors = abs(predictions - y_mult_test)"
      ]
    },
    {
      "cell_type": "markdown",
      "metadata": {
        "id": "irBgxT25ArY7"
      },
      "source": [
        "After we found the predictions, we generated what errors were made in our model by the code above. Once we found the errors then we could determine what the accuracy rate of our model was. Which we found out to be 79.27% and an inaccuracy of 20.73%. This model would work well to be able to help determine if new customers are likely to churn or not based on their given information."
      ]
    },
    {
      "cell_type": "code",
      "execution_count": null,
      "metadata": {
        "id": "8bzmcuf514Zp",
        "colab": {
          "base_uri": "https://localhost:8080/"
        },
        "outputId": "0c52229c-2e3e-4521-b72a-99ded2f3bee1"
      },
      "outputs": [
        {
          "output_type": "execute_result",
          "data": {
            "text/plain": [
              "0.7927223719676549"
            ]
          },
          "metadata": {},
          "execution_count": 50
        }
      ],
      "source": [
        "np.mean(errors == 0)"
      ]
    },
    {
      "cell_type": "code",
      "execution_count": null,
      "metadata": {
        "id": "45rd6mOyzQiU",
        "colab": {
          "base_uri": "https://localhost:8080/"
        },
        "outputId": "6ef3721e-e3d3-4bed-a923-1a22243dc571"
      },
      "outputs": [
        {
          "output_type": "execute_result",
          "data": {
            "text/plain": [
              "0.207277628032345"
            ]
          },
          "metadata": {},
          "execution_count": 51
        }
      ],
      "source": [
        "np.mean(errors == 1)"
      ]
    },
    {
      "cell_type": "code",
      "execution_count": null,
      "metadata": {
        "id": "WnhlTmRb18_f",
        "colab": {
          "base_uri": "https://localhost:8080/"
        },
        "outputId": "aa337762-cb8e-47f4-ee17-a840420e980d"
      },
      "outputs": [
        {
          "output_type": "execute_result",
          "data": {
            "text/plain": [
              "array([[2.13170000e+04, 6.40000000e+01, 4.07611163e-03, ...,\n",
              "        6.44053242e-04, 0.00000000e+00, 6.40000000e+01],\n",
              "       [2.35310000e+04, 5.00000000e+00, 4.23546849e-04, ...,\n",
              "        2.86245885e-04, 0.00000000e+00, 6.00000000e+00],\n",
              "       [2.13770000e+04, 1.20000000e+01, 1.26997151e-03, ...,\n",
              "        5.72491770e-04, 0.00000000e+00, 1.20000000e+01],\n",
              "       ...,\n",
              "       [1.03660000e+04, 1.00000000e+01, 1.26997151e-03, ...,\n",
              "        1.00186060e-03, 0.00000000e+00, 1.23000000e+02],\n",
              "       [2.53420000e+04, 5.00000000e+01, 1.40866203e-03, ...,\n",
              "        1.86059825e-03, 0.00000000e+00, 4.00000000e+01],\n",
              "       [2.11040000e+04, 4.90000000e+01, 1.46467839e-03, ...,\n",
              "        7.15614713e-05, 0.00000000e+00, 5.00000000e+01]])"
            ]
          },
          "metadata": {},
          "execution_count": 52
        }
      ],
      "source": [
        "X_mult_test[predictions==1]"
      ]
    },
    {
      "cell_type": "code",
      "execution_count": null,
      "metadata": {
        "id": "tVk1nV3p1-h3"
      },
      "outputs": [],
      "source": [
        "predictions = list(predictions)\n",
        "actuals = list(y_mult_test)"
      ]
    },
    {
      "cell_type": "code",
      "execution_count": null,
      "metadata": {
        "id": "MqV8MAug2AD_"
      },
      "outputs": [],
      "source": [
        "actual = actuals\n",
        "predicted = predictions"
      ]
    },
    {
      "cell_type": "code",
      "execution_count": null,
      "metadata": {
        "id": "CEk6bPzy2CVo"
      },
      "outputs": [],
      "source": [
        "confusion_matrix = metrics.confusion_matrix(actual, predicted)"
      ]
    },
    {
      "cell_type": "code",
      "execution_count": null,
      "metadata": {
        "id": "BQzUIq5_2E2B",
        "colab": {
          "base_uri": "https://localhost:8080/"
        },
        "outputId": "4ad50d02-f710-4c75-8161-03c728f87d30"
      },
      "outputs": [
        {
          "output_type": "execute_result",
          "data": {
            "text/plain": [
              "array([[1598,  295],\n",
              "       [ 474, 1343]])"
            ]
          },
          "metadata": {},
          "execution_count": 56
        }
      ],
      "source": [
        "confusion_matrix"
      ]
    },
    {
      "cell_type": "markdown",
      "metadata": {
        "id": "cj8UqEW7BaCC"
      },
      "source": [
        "After the model was created, we decided to add in a confusion matrix to show how well our model worked. We knew the accuracy but creating this confusion matrix helps visualize the outcome easier. Above there is the array which shows the confusion matrix."
      ]
    },
    {
      "cell_type": "code",
      "execution_count": null,
      "metadata": {
        "id": "8oc37TS12Jy9"
      },
      "outputs": [],
      "source": [
        "cm_display = metrics.ConfusionMatrixDisplay(confusion_matrix = confusion_matrix, display_labels = ['Not Churn', 'Churn'])"
      ]
    },
    {
      "cell_type": "markdown",
      "metadata": {
        "id": "4rukVKRpBuzj"
      },
      "source": [
        "The array shows the confusion well but below is a bigger picture to understand what is happening. This shows how well our model was able to predict churn or not churn. For example, our model predicted that customers would not churn but actually did churn 474 times but then predicted customers would not churn and didn't churn 1598 times. Which shows our model still has errors but has a high accuracy rate."
      ]
    },
    {
      "cell_type": "code",
      "execution_count": null,
      "metadata": {
        "id": "2A73sHva2MQE",
        "colab": {
          "base_uri": "https://localhost:8080/",
          "height": 449
        },
        "outputId": "7fa8820f-7e04-401d-e4ed-68787a3299a8"
      },
      "outputs": [
        {
          "output_type": "display_data",
          "data": {
            "text/plain": [
              "<Figure size 640x480 with 2 Axes>"
            ],
            "image/png": "[encoded data removed]"
          },
          "metadata": {}
        }
      ],
      "source": [
        "cm_display.plot()\n",
        "cm_display.ax_.set(xlabel='Predicted', ylabel='Actual')\n",
        "plt.show()"
      ]
    },
    {
      "cell_type": "markdown",
      "metadata": {
        "id": "9yIQUX3BMg7Q"
      },
      "source": [
        "# Random Forest Model\n",
        "\n",
        "The next model we chose to do was a random forest model. We chose this model because it can handle large data sets with many features. Our data set included thousands of rows with 13 columns so we thought our data set fit these qualifications.\n",
        "\n",
        "To start the model, a copy of the cleaned data set was made."
      ]
    },
    {
      "cell_type": "code",
      "execution_count": null,
      "metadata": {
        "id": "qt0etcG93FSY"
      },
      "outputs": [],
      "source": [
        "data3 = data.copy(deep = True)"
      ]
    },
    {
      "cell_type": "markdown",
      "metadata": {
        "id": "of9rHt3ENaQK"
      },
      "source": [
        "The formatting of the table will mess up this model so the data was extracted from the formatting. This left the data in an array. This can be seen below."
      ]
    },
    {
      "cell_type": "code",
      "execution_count": null,
      "metadata": {
        "id": "zxYFV5el3Ne2"
      },
      "outputs": [],
      "source": [
        "data3 = data3.values"
      ]
    },
    {
      "cell_type": "code",
      "execution_count": null,
      "metadata": {
        "id": "VwUBZBWVHOAx",
        "colab": {
          "base_uri": "https://localhost:8080/"
        },
        "outputId": "ef7df126-baac-4b47-fee0-49b96f5a5547"
      },
      "outputs": [
        {
          "output_type": "execute_result",
          "data": {
            "text/plain": [
              "array([[2.64970000e+04, 3.70000000e+01, 1.92940340e-03, ...,\n",
              "        0.00000000e+00, 3.60000000e+01, 0.00000000e+00],\n",
              "       [2.65030000e+04, 3.60000000e+01, 1.41164723e-03, ...,\n",
              "        0.00000000e+00, 3.60000000e+01, 0.00000000e+00],\n",
              "       [2.65110000e+04, 1.10000000e+01, 9.99496812e-05, ...,\n",
              "        0.00000000e+00, 1.20000000e+01, 1.00000000e+00],\n",
              "       ...,\n",
              "       [1.82520000e+04, 4.20000000e+01, 1.26997151e-03, ...,\n",
              "        0.00000000e+00, 4.20000000e+01, 1.00000000e+00],\n",
              "       [1.82540000e+04, 3.20000000e+01, 1.26997151e-03, ...,\n",
              "        0.00000000e+00, 3.20000000e+01, 1.00000000e+00],\n",
              "       [1.82600000e+04, 8.00000000e+00, 1.26997151e-03, ...,\n",
              "        0.00000000e+00, 9.00000000e+00, 1.00000000e+00]])"
            ]
          },
          "metadata": {},
          "execution_count": 61
        }
      ],
      "source": [
        "data3"
      ]
    },
    {
      "cell_type": "markdown",
      "metadata": {
        "id": "rXNDFFr3RJJ6"
      },
      "source": [
        "The columns were then separated into X and Y. The actual customer churn column was the Y, as it is the output. All other columns were separated into X."
      ]
    },
    {
      "cell_type": "code",
      "execution_count": null,
      "metadata": {
        "id": "CXHu7rwZ3oVo"
      },
      "outputs": [],
      "source": [
        "X = data3[:,0:13]"
      ]
    },
    {
      "cell_type": "code",
      "execution_count": null,
      "metadata": {
        "id": "FHIC3lwQ3vSG"
      },
      "outputs": [],
      "source": [
        "Y = data3[:,13]"
      ]
    },
    {
      "cell_type": "markdown",
      "metadata": {
        "id": "AjKBqAbSk3Sr"
      },
      "source": [
        "To train the data, so that the model is more accurate, we performed a train test split. The test size was 0.3."
      ]
    },
    {
      "cell_type": "code",
      "execution_count": null,
      "metadata": {
        "id": "KBPzYOG431-K"
      },
      "outputs": [],
      "source": [
        "X_train, X_test, Y_train, Y_test = train_test_split(X, Y, test_size = 0.3, random_state = 0)"
      ]
    },
    {
      "cell_type": "markdown",
      "metadata": {
        "id": "DONFOEJ8SsK3"
      },
      "source": [
        "The work for this model is done by the Random Forest Classifier. The data was then fit using the training data."
      ]
    },
    {
      "cell_type": "code",
      "execution_count": null,
      "metadata": {
        "id": "B_XJrNJn4Eqd"
      },
      "outputs": [],
      "source": [
        "rf = RandomForestClassifier()"
      ]
    },
    {
      "cell_type": "code",
      "execution_count": null,
      "metadata": {
        "id": "BHi0OPh04JHf"
      },
      "outputs": [],
      "source": [
        "rf = rf.fit(X_train, Y_train)"
      ]
    },
    {
      "cell_type": "markdown",
      "metadata": {
        "id": "iy8AceNiTpEq"
      },
      "source": [
        "The model is then run using the test data."
      ]
    },
    {
      "cell_type": "code",
      "execution_count": null,
      "metadata": {
        "id": "2_wsestA4T4p"
      },
      "outputs": [],
      "source": [
        "predictions = rf.predict(X_test)"
      ]
    },
    {
      "cell_type": "code",
      "execution_count": null,
      "metadata": {
        "id": "3AgC5h3t4Zur",
        "colab": {
          "base_uri": "https://localhost:8080/"
        },
        "outputId": "2b21aec7-20cf-48a3-8264-acdaea2c7a81"
      },
      "outputs": [
        {
          "output_type": "execute_result",
          "data": {
            "text/plain": [
              "array([0., 0., 0., ..., 0., 1., 0.])"
            ]
          },
          "metadata": {},
          "execution_count": 68
        }
      ],
      "source": [
        "predictions"
      ]
    },
    {
      "cell_type": "markdown",
      "metadata": {
        "id": "XRyWe1mCT6B_"
      },
      "source": [
        "Below is the code to find the average absolute error."
      ]
    },
    {
      "cell_type": "code",
      "execution_count": null,
      "metadata": {
        "id": "HSWy2RgZ4cYy"
      },
      "outputs": [],
      "source": [
        "errors = abs(predictions - Y_test)"
      ]
    },
    {
      "cell_type": "code",
      "execution_count": null,
      "metadata": {
        "id": "RC89k9TZ4hh8",
        "colab": {
          "base_uri": "https://localhost:8080/"
        },
        "outputId": "765c4c74-ef84-4524-e72d-4e958b489b27"
      },
      "outputs": [
        {
          "output_type": "execute_result",
          "data": {
            "text/plain": [
              "array([0., 0., 0., ..., 0., 0., 0.])"
            ]
          },
          "metadata": {},
          "execution_count": 70
        }
      ],
      "source": [
        "errors"
      ]
    },
    {
      "cell_type": "code",
      "execution_count": null,
      "metadata": {
        "id": "YAi1UjGn4iIf",
        "colab": {
          "base_uri": "https://localhost:8080/"
        },
        "outputId": "10905c0e-eabb-4b65-ee1f-e80b9a84db05"
      },
      "outputs": [
        {
          "output_type": "execute_result",
          "data": {
            "text/plain": [
              "0.8913746630727762"
            ]
          },
          "metadata": {},
          "execution_count": 71
        }
      ],
      "source": [
        "np.mean(errors ==0)"
      ]
    },
    {
      "cell_type": "code",
      "execution_count": null,
      "metadata": {
        "id": "Y3s2WGR24mWT",
        "colab": {
          "base_uri": "https://localhost:8080/"
        },
        "outputId": "94f9ecf2-1f64-4d22-9474-8b58c854172e"
      },
      "outputs": [
        {
          "output_type": "execute_result",
          "data": {
            "text/plain": [
              "0.10862533692722372"
            ]
          },
          "metadata": {},
          "execution_count": 72
        }
      ],
      "source": [
        "np.mean(errors == 1)"
      ]
    },
    {
      "cell_type": "markdown",
      "metadata": {
        "id": "q4tHRAaqbzW_"
      },
      "source": [
        "The model was correct in predicting churn 89.19% of the time. Thus, it was innacurate 10.81% of the time."
      ]
    },
    {
      "cell_type": "markdown",
      "metadata": {
        "id": "qkNsI4pW6WLm"
      },
      "source": [
        "The confusion matrix bellow is a way to visualize the predictions for the Random Forest model. The X axis is what was predicted and the Y axis is what actually happened. On each axis there is a display label for if the customer churned or did not."
      ]
    },
    {
      "cell_type": "code",
      "execution_count": null,
      "metadata": {
        "id": "qrPftW7I9hbq",
        "colab": {
          "base_uri": "https://localhost:8080/"
        },
        "outputId": "de57259e-0597-46b2-f0c8-36c5517c12ce"
      },
      "outputs": [
        {
          "output_type": "execute_result",
          "data": {
            "text/plain": [
              "array([[1.25360000e+04, 1.07000000e+02, 5.44508809e-03, ...,\n",
              "        1.57435237e-02, 2.00000000e+00, 1.12000000e+02],\n",
              "       [2.13770000e+04, 1.20000000e+01, 1.26997151e-03, ...,\n",
              "        5.72491770e-04, 0.00000000e+00, 1.20000000e+01],\n",
              "       [9.36300000e+03, 8.40000000e+01, 1.26994693e-02, ...,\n",
              "        7.44239302e-03, 0.00000000e+00, 1.45000000e+02],\n",
              "       ...,\n",
              "       [4.94600000e+03, 6.00000000e+00, 1.26997151e-03, ...,\n",
              "        5.72491770e-04, 0.00000000e+00, 1.40000000e+01],\n",
              "       [1.03660000e+04, 1.00000000e+01, 1.26997151e-03, ...,\n",
              "        1.00186060e-03, 0.00000000e+00, 1.23000000e+02],\n",
              "       [2.11040000e+04, 4.90000000e+01, 1.46467839e-03, ...,\n",
              "        7.15614713e-05, 0.00000000e+00, 5.00000000e+01]])"
            ]
          },
          "metadata": {},
          "execution_count": 73
        }
      ],
      "source": [
        "X_test[predictions ==1 ]"
      ]
    },
    {
      "cell_type": "code",
      "execution_count": null,
      "metadata": {
        "id": "0QaJTLlu9vP8"
      },
      "outputs": [],
      "source": [
        "predictions = list(predictions)\n",
        "actuals = list(Y_test)"
      ]
    },
    {
      "cell_type": "code",
      "execution_count": null,
      "metadata": {
        "id": "Na1oAzG49879"
      },
      "outputs": [],
      "source": [
        "actual = actuals\n",
        "predicted = predictions"
      ]
    },
    {
      "cell_type": "code",
      "execution_count": null,
      "metadata": {
        "id": "NTk-4vQf-HJe"
      },
      "outputs": [],
      "source": [
        "confusion_matrix = metrics.confusion_matrix(actual, predicted)"
      ]
    },
    {
      "cell_type": "code",
      "execution_count": null,
      "metadata": {
        "id": "nrwz9maK-R8B",
        "colab": {
          "base_uri": "https://localhost:8080/"
        },
        "outputId": "5b78ba86-2e32-499b-e99b-e0811d8219ab"
      },
      "outputs": [
        {
          "output_type": "execute_result",
          "data": {
            "text/plain": [
              "array([[1720,  173],\n",
              "       [ 230, 1587]])"
            ]
          },
          "metadata": {},
          "execution_count": 77
        }
      ],
      "source": [
        "confusion_matrix"
      ]
    },
    {
      "cell_type": "code",
      "execution_count": null,
      "metadata": {
        "id": "2wmY6jTe-Xaz"
      },
      "outputs": [],
      "source": [
        "cm_display = metrics.ConfusionMatrixDisplay(confusion_matrix, display_labels = ['Not Churn', 'Churn'])"
      ]
    },
    {
      "cell_type": "markdown",
      "metadata": {
        "id": "uRJmZjs86kcw"
      },
      "source": [
        "Below is the Confusion Matrix. The number on the top left, 1707, is the number of customers that were correctly predicted to not churn. The number on the top right, 201, is the number that was predicted to churn, but did not actually churn. The number on the bottom right, 1603, is the number of customers that were predicted to churn and did actually churn. Lastly, the number on the bottom left, 199, is the number of customers that were predicted to not churn, but actually did churn."
      ]
    },
    {
      "cell_type": "code",
      "execution_count": null,
      "metadata": {
        "id": "5keuOEWo_OdG",
        "colab": {
          "base_uri": "https://localhost:8080/",
          "height": 449
        },
        "outputId": "26b6aca9-b745-44bf-daa4-8d32ea876902"
      },
      "outputs": [
        {
          "output_type": "display_data",
          "data": {
            "text/plain": [
              "<Figure size 640x480 with 2 Axes>"
            ],
            "image/png": "[encoded data removed]"
          },
          "metadata": {}
        }
      ],
      "source": [
        "cm_display.plot()\n",
        "cm_display.ax_.set(xlabel='Predicted', ylabel='Actual')\n",
        "plt.show()"
      ]
    },
    {
      "cell_type": "markdown",
      "metadata": {
        "id": "jDWIbdfxIJ73"
      },
      "source": [
        "# Conclusion\n",
        "It was found that there were two models that predicted customer churn. The first was a logistic model that achieved a 79.27% accuracy rate. The other model was a random forest model which achieved an 89.41% accuracy rate. This model can be used by inputing values of current cursomers to predict if they would churn. This would help a company so that they know if they should put assets towards that customer or not. The model could be improved by adding more data lines to gain accuracy."
      ]
    }
  ],
  "metadata": {
    "colab": {
      "provenance": []
    },
    "kernelspec": {
      "display_name": "Python 3",
      "name": "python3"
    },
    "language_info": {
      "name": "python"
    }
  },
  "nbformat": 4,
  "nbformat_minor": 0
}